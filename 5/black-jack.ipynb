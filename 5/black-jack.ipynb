{
 "cells": [
  {
   "cell_type": "markdown",
   "metadata": {},
   "source": [
    "# Chapter 5: Monte Carlo "
   ]
  },
  {
   "cell_type": "markdown",
   "metadata": {},
   "source": [
    "## Black-Jack Example\n",
    "\n",
    "An episodic finite MDP"
   ]
  },
  {
   "cell_type": "code",
   "execution_count": 1,
   "metadata": {
    "collapsed": true
   },
   "outputs": [],
   "source": [
    "from __future__ import division\n",
    "import numpy as np"
   ]
  },
  {
   "cell_type": "code",
   "execution_count": 2,
   "metadata": {
    "collapsed": false
   },
   "outputs": [],
   "source": [
    "# globals\n",
    "card_values = {'01':{'low':1, 'high':11}, '02':2, '03':3, '04':4, '05':5, '06':6, '07':7, '08':8, '09':9, '10':10, '11':10, '12':10, '13':10 }\n",
    "states = range(4, 30)\n",
    "actions = np.array(['stick', 'hit'])\n",
    "\n",
    "# dealer policy\n",
    "dealer_policy = {s:[0.0, 1.0] for s in range(4,17)}\n",
    "for s in range(17,31): dealer_policy[s] = [1.0, 0.0]\n"
   ]
  },
  {
   "cell_type": "code",
   "execution_count": 3,
   "metadata": {
    "collapsed": false
   },
   "outputs": [],
   "source": [
    "def deal():\n",
    "    # deal 1 card\n",
    "    return np.random.choice(np.array(card_values.keys()), p=[1/12]*12)"
   ]
  },
  {
   "cell_type": "code",
   "execution_count": 4,
   "metadata": {
    "collapsed": true
   },
   "outputs": [],
   "source": [
    "def result(player_trace, dealer_trace):\n",
    "    player_state = player_trace[-1][0]    \n",
    "    dealer_state = dealer_trace[-1][0]\n",
    "    if player_state > 21 : return -1\n",
    "    elif dealer_state > 21: return 1\n",
    "    elif player_state < dealer_state: return -1\n",
    "    elif player_state > dealer_state: return 1\n",
    "    elif player_state == dealer_state:\n",
    "        if player_state == 21 and len(player_trace) == 1:\n",
    "            if dealer_state == 21 and len(dealer_trace) == 1: return 0\n",
    "            else: return 1\n",
    "        else: return -1"
   ]
  },
  {
   "cell_type": "code",
   "execution_count": 5,
   "metadata": {
    "collapsed": true
   },
   "outputs": [],
   "source": [
    "def evaluate(hand):\n",
    "    v = 0\n",
    "    for card in sorted(hand, reverse=True):\n",
    "        card_value = card_values[card]\n",
    "        if card == '01':\n",
    "            v += card_value['high'] if (v + card_value['high'])<= 21 else card_value['low']\n",
    "        else:\n",
    "            v += card_value\n",
    "    return v        "
   ]
  },
  {
   "cell_type": "code",
   "execution_count": 6,
   "metadata": {
    "collapsed": true
   },
   "outputs": [],
   "source": [
    "def play(hand, policy):\n",
    "    # determine state \n",
    "    # (the state is the hand but the only part of the hand that matters to the policy is just its value)\n",
    "    s = evaluate(hand)\n",
    "    \n",
    "    # sample an action according to the distribution given by the policy \n",
    "    a = np.random.choice(actions, p=policy[s])\n",
    "\n",
    "    trace = [(s, a)]\n",
    "    # repeat while the policy returns 'hit'\n",
    "    while a == 'hit':\n",
    "        hand.append(deal())\n",
    "        s = evaluate(hand)\n",
    "        a = np.random.choice(actions, p=policy[s])\n",
    "        trace.append((s,a))\n",
    "    \n",
    "    return trace"
   ]
  },
  {
   "cell_type": "code",
   "execution_count": 7,
   "metadata": {
    "collapsed": false
   },
   "outputs": [],
   "source": [
    "def episode(player_policy):\n",
    "\n",
    "    dealer_hand = [deal(), deal()] \n",
    "    player_hand = [deal(), deal()]\n",
    "\n",
    "    player_trace = play(player_hand, player_policy)    \n",
    "    dealer_trace = play(dealer_hand, dealer_policy)\n",
    "    \n",
    "    return {'trace': player_trace, 'result': result(player_trace, dealer_trace)}"
   ]
  },
  {
   "cell_type": "code",
   "execution_count": 8,
   "metadata": {
    "collapsed": true
   },
   "outputs": [],
   "source": [
    "def simulation(N, player_policy):\n",
    "    return [episode(player_policy) for _ in range(N)]"
   ]
  },
  {
   "cell_type": "markdown",
   "metadata": {},
   "source": [
    "## Propose a Policy, Generate episodes, Evaluate policy with monte carlo"
   ]
  },
  {
   "cell_type": "code",
   "execution_count": 9,
   "metadata": {
    "collapsed": true
   },
   "outputs": [],
   "source": [
    "# design a player policy\n",
    "player_policy = {}\n",
    "for s in range(4,12): player_policy[s] = [0., 1.]\n",
    "for s in range(12,15): player_policy[s] = [0.0, 1.0]\n",
    "for s in range(15,17): player_policy[s] = [0.5, 0.5]\n",
    "for s in range(17,19): player_policy[s] = [0.8, 0.2]\n",
    "for s in range(19,31): player_policy[s] = [1., 0.]"
   ]
  },
  {
   "cell_type": "code",
   "execution_count": 10,
   "metadata": {
    "collapsed": false
   },
   "outputs": [
    {
     "name": "stdout",
     "output_type": "stream",
     "text": [
      "{'result': -1, 'trace': [(6, 'hit'), (17, 'hit'), (15, 'stand')]}\n"
     ]
    }
   ],
   "source": [
    "# generate data simulating episodes according to the policy\n",
    "N = 10000\n",
    "episodes = simulation(N, player_policy)\n",
    "print episodes[0]"
   ]
  },
  {
   "cell_type": "code",
   "execution_count": 11,
   "metadata": {
    "collapsed": false
   },
   "outputs": [],
   "source": [
    "def state_values(states, episodes):\n",
    "    values = []\n",
    "    for s in states:\n",
    "        data = []\n",
    "        for e in episodes:\n",
    "            found = False\n",
    "            for s_a in e['trace']:\n",
    "                if s_a[0] == s:\n",
    "                    found = True\n",
    "                    break # first-visit\n",
    "            if found:\n",
    "                data.append(e)\n",
    "                \n",
    "        values.append(sum([e['result'] for e in data])/(len(data) + 1e-10))\n",
    "        \n",
    "    return values"
   ]
  },
  {
   "cell_type": "code",
   "execution_count": 12,
   "metadata": {
    "collapsed": false,
    "scrolled": true
   },
   "outputs": [
    {
     "name": "stdout",
     "output_type": "stream",
     "text": [
      "state: 4     value: -0.2424\n",
      "state: 5     value: -0.2714\n",
      "state: 6     value: -0.4641\n",
      "state: 7     value: -0.2817\n",
      "state: 8     value: -0.2952\n",
      "state: 9     value: -0.1392\n",
      "state: 10     value: -0.0390\n",
      "state: 11     value: -0.0105\n",
      "state: 12     value: -0.3252\n",
      "state: 13     value: -0.4043\n",
      "state: 14     value: -0.4112\n",
      "state: 15     value: -0.4701\n",
      "state: 16     value: -0.4497\n",
      "state: 17     value: -0.4420\n",
      "state: 18     value: -0.2150\n",
      "state: 19     value: 0.1320\n",
      "state: 20     value: 0.4504\n",
      "state: 21     value: 0.8356\n"
     ]
    }
   ],
   "source": [
    "# evaluate the policy\n",
    "states = range(4, 22)\n",
    "values = state_values(states, episodes)\n",
    "\n",
    "st_vals = zip(states, values)\n",
    "for s, v in st_vals:\n",
    "    print 'state: %d     value: %0.4f' % (s, v)"
   ]
  },
  {
   "cell_type": "code",
   "execution_count": 13,
   "metadata": {
    "collapsed": true
   },
   "outputs": [],
   "source": [
    "import matplotlib.pyplot as plt\n",
    "%matplotlib inline"
   ]
  },
  {
   "cell_type": "code",
   "execution_count": 14,
   "metadata": {
    "collapsed": false
   },
   "outputs": [
    {
     "data": {
      "text/plain": [
       "<matplotlib.text.Text at 0x7f1319bae610>"
      ]
     },
     "execution_count": 14,
     "metadata": {},
     "output_type": "execute_result"
    },
    {
     "data": {
      "image/png": "[encoded data removed]",
      "text/plain": [
       "<matplotlib.figure.Figure at 0x7f131bc3b8d0>"
      ]
     },
     "metadata": {},
     "output_type": "display_data"
    }
   ],
   "source": [
    "sva = np.array(st_vals)\n",
    "plt.plot(states, values)\n",
    "plt.ylabel('state value')\n",
    "plt.xlabel('state')\n",
    "plt.grid(True)\n",
    "plt.title('Player Policy Evaluation')"
   ]
  },
  {
   "cell_type": "code",
   "execution_count": null,
   "metadata": {
    "collapsed": true
   },
   "outputs": [],
   "source": []
  }
 ],
 "metadata": {
  "anaconda-cloud": {},
  "kernelspec": {
   "display_name": "Python [conda root]",
   "language": "python",
   "name": "conda-root-py"
  },
  "language_info": {
   "codemirror_mode": {
    "name": "ipython",
    "version": 2
   },
   "file_extension": ".py",
   "mimetype": "text/x-python",
   "name": "python",
   "nbconvert_exporter": "python",
   "pygments_lexer": "ipython2",
   "version": "2.7.12"
  }
 },
 "nbformat": 4,
 "nbformat_minor": 1
}
