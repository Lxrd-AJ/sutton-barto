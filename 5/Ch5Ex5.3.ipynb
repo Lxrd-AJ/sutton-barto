{
 "cells": [
  {
   "cell_type": "markdown",
   "metadata": {},
   "source": [
    "# Monte Carlo ES\n",
    "\n",
    "On-policy method with uniform test of intial state"
   ]
  },
  {
   "cell_type": "code",
   "execution_count": 1,
   "metadata": {
    "collapsed": false
   },
   "outputs": [],
   "source": [
    "import numpy as np\n",
    "from numpy.linalg import inv, norm\n",
    "from numpy.random import choice\n",
    "\n",
    "#Blackjack rules\n",
    "#draw at random 1 - 10, 10 ,10, 10\n",
    "#dealer shows one card.\n",
    "#player takes two and holds on 20 or 21\n",
    "#state is dealer-showing, player sum and useable ace.\n",
    "#dealer sticks on 17 or greater"
   ]
  },
  {
   "cell_type": "code",
   "execution_count": 2,
   "metadata": {
    "collapsed": true
   },
   "outputs": [],
   "source": [
    "# Usable Ace\n",
    "def uaFunc(pCards):\n",
    "    if min(pCards) > 1: return 0\n",
    "    if min(pCards) == 1:\n",
    "        if sum(pCards) <= 11: \n",
    "            return 1\n",
    "        else: return 0 "
   ]
  },
  {
   "cell_type": "code",
   "execution_count": 3,
   "metadata": {
    "collapsed": true
   },
   "outputs": [],
   "source": [
    "def stateIdx(dCard, pCards):\n",
    "    i = dCard - 1\n",
    "    k = uaFunc(pCards)\n",
    "    j = sum(pCards) + 10*k - 12\n",
    "    return [i, j, k] "
   ]
  },
  {
   "cell_type": "code",
   "execution_count": 4,
   "metadata": {
    "collapsed": true
   },
   "outputs": [],
   "source": [
    "def pSum(pCards):\n",
    "    return sum(pCards) + 10*uaFunc(pCards)"
   ]
  },
  {
   "cell_type": "code",
   "execution_count": 5,
   "metadata": {
    "collapsed": true
   },
   "outputs": [],
   "source": [
    "def initState():\n",
    "    dCard = choice(cards)\n",
    "    pCards = list(choice(cards, 2, True))\n",
    "    #print(pCards)\n",
    "    while pSum(pCards) < 12:\n",
    "        pCards.append(choice(cards))\n",
    "    return dCard, pCards"
   ]
  },
  {
   "cell_type": "code",
   "execution_count": 6,
   "metadata": {
    "collapsed": true
   },
   "outputs": [],
   "source": [
    "def pPolicy(dCard, pCards, epsilon):\n",
    "    dsIdx, psIdx, uaIdx = stateIdx(dCard, pCards)\n",
    "    \n",
    "    action_values = actionValueMatrix[dsIdx][psIdx][uaIdx]\n",
    "    if np.random.uniform(0.0, 1.0) < epsilon or (action_values[0] == action_values[1]):\n",
    "        return choice([0, 1])\n",
    "    else:\n",
    "        return np.argmax(action_values) \n",
    "    "
   ]
  },
  {
   "cell_type": "code",
   "execution_count": 7,
   "metadata": {
    "collapsed": true
   },
   "outputs": [],
   "source": [
    "def pReward(dCard, pCards):\n",
    "    dCards = [dCard]\n",
    "    while pSum(dCards) < 17:\n",
    "        dCards.append(choice(cards))\n",
    "    if pSum(dCards) > 21:\n",
    "        return 1\n",
    "    elif pSum(dCards) >= pSum(pCards):\n",
    "        return -1\n",
    "    else:\n",
    "        return 1"
   ]
  },
  {
   "cell_type": "code",
   "execution_count": 8,
   "metadata": {
    "collapsed": false,
    "scrolled": true
   },
   "outputs": [],
   "source": [
    "def printRewards():\n",
    "    print\n",
    "    print 'Average Reward by state'\n",
    "    for k in [0,1]:\n",
    "        print 'k =', k\n",
    "        for i in range(10):\n",
    "            print [actionValueMatrix[i, j, k] for j in range(10)]\n",
    "        print"
   ]
  },
  {
   "cell_type": "code",
   "execution_count": 9,
   "metadata": {
    "collapsed": true
   },
   "outputs": [],
   "source": [
    "def printPolicy():\n",
    "    print\n",
    "    print 'Policy'\n",
    "    for k in [0,1]:\n",
    "        print 'k =', k\n",
    "        for i in range(10):\n",
    "            print [actionValueMatrix[i, j, k] for j in range(10)]\n",
    "        print "
   ]
  },
  {
   "cell_type": "code",
   "execution_count": 10,
   "metadata": {
    "collapsed": false
   },
   "outputs": [],
   "source": [
    "def updatePolicy(rm, stateRec):\n",
    "    for dsIdx, psIdx, uaIdx, aIdx in stateRec:\n",
    "        actionValueMatrix[ dsIdx, psIdx, uaIdx, aIdx] = rm[ dsIdx, psIdx, uaIdx, aIdx]"
   ]
  },
  {
   "cell_type": "code",
   "execution_count": 11,
   "metadata": {
    "collapsed": false
   },
   "outputs": [
    {
     "name": "stdout",
     "output_type": "stream",
     "text": [
      "0.0\n"
     ]
    }
   ],
   "source": [
    "stateMatrix = np.zeros((10, 10, 2))\n",
    "cards = [1, 2, 3, 4, 5, 6, 7, 8, 9, 10, 10, 10, 10]\n",
    "actionValueMatrix = np.random.normal(size=(10, 10, 2, 2))\n",
    "\n",
    "ua = [0,1] \n",
    "dVals = [1, 2, 3, 4, 5, 6, 7, 8, 9, 10]\n",
    "pVals = [12, 13, 14, 15, 16, 17, 18, 19, 20, 21]\n",
    "\n",
    "#seq of events\n",
    "#draw dealer's card\n",
    "#draw players cards to reach 12\n",
    "#determine ua or nua\n",
    "#take more player cards - keep list of sums (or indices)\n",
    "\n",
    "numMC = 1000\n",
    "epsilon = 0\n",
    "\n",
    "for epoch in range(1000):\n",
    "    rewardMatrix = np.zeros((10, 10, 2, 2))\n",
    "    countMatrix = np.zeros((10, 10, 2, 2)) \n",
    "    \n",
    "    if epoch % 40 == 0:\n",
    "        epsilon /= 1.1\n",
    "    \n",
    "    for i in range(numMC):\n",
    "        stateRec = []\n",
    "        \n",
    "        #set initial state\n",
    "        dCard, pCards = initState()\n",
    "        ua = uaFunc(pCards)\n",
    "\n",
    "        #record initial state\n",
    "        dsIdx, psIdx, uaIdx = stateIdx(dCard, pCards)\n",
    "        action = pPolicy(dCard, pCards, epsilon)\n",
    "        stateRec.append((dsIdx, psIdx, uaIdx, action))\n",
    "\n",
    "        #exercise player policy\n",
    "        while (pSum(pCards) < 21) and action:\n",
    "            # draw a card\n",
    "            pCards.append(choice(cards))\n",
    "            #record state each step\n",
    "            dsIdx, psIdx, uaIdx = stateIdx(dCard, pCards)\n",
    "            if (pSum(pCards) < 21):\n",
    "                action = pPolicy(dCard, pCards, epsilon)\n",
    "                stateRec.append((dsIdx, psIdx, uaIdx, action))\n",
    "\n",
    "        #if player busts: assign reward -1\n",
    "        if pSum(pCards) > 21:\n",
    "            for dsIdx, psIdx, uaIdx, aIdx in stateRec:\n",
    "                rewardMatrix[dsIdx][psIdx][uaIdx][aIdx] = -1\n",
    "        else:\n",
    "            reward = pReward(dCard, pCards)\n",
    "            for dsIdx, psIdx, uaIdx, aIdx in stateRec:\n",
    "                rewardMatrix[dsIdx][psIdx][uaIdx][aIdx] += reward            \n",
    "                countMatrix[dsIdx][psIdx][uaIdx][aIdx] += 1   \n",
    "\n",
    "\n",
    "    rm =  rewardMatrix / (countMatrix + 1e-7)\n",
    "    updatePolicy(rm,stateRec)\n",
    "\n",
    "    \n",
    "    \n",
    "print epsilon\n",
    "    "
   ]
  },
  {
   "cell_type": "code",
   "execution_count": 12,
   "metadata": {
    "collapsed": false
   },
   "outputs": [
    {
     "name": "stdout",
     "output_type": "stream",
     "text": [
      "\n",
      "Policy\n",
      "k = 0\n",
      "[array([-1.70595322, -0.66666666]), array([-0.63636363, -0.9999999 ]), array([-0.99999999, -0.24999999]), array([-0.85714285, -1.9999998 ]), array([-0.99999999, -0.33333332]), array([-1.39623591, -0.33333332]), array([-0.49999999, -0.9999999 ]), array([-0.49999999, -0.9999999 ]), array([-0.16666667, -0.31986319]), array([ 0.03011266,  1.24416578])]\n",
      "[array([-0.5434932, -0.125    ]), array([ 0.       , -1.9999998]), array([-0.7142857 , -0.33333332]), array([-0.49999999, -0.87123258]), array([-0.76648548, -0.33333332]), array([-0.5      , -1.9999998]), array([-0.59999999, -0.49999998]), array([ 0.66666666, -0.49999998]), array([  5.99999994e-01,  -1.00000000e+07]), array([ 0.99999997, -1.00432363])]\n",
      "[array([-0.7142857, -0.2      ]), array([        0., -10000000.]), array([ -1.66666665e-01,  -1.00000000e+07]), array([-1.08228868,  0.        ]), array([ -8.18181811e-01,  -1.00000000e+07]), array([-0.99999999, -0.9999999 ]), array([ 0.66666666, -0.9999999 ]), array([ -9.99999980e-01,  -1.00000000e+07]), array([ 0.73333333, -0.33333332]), array([ 0.03978936,  0.99999997])]\n",
      "[array([-0.49999999, -0.25      ]), array([-0.49999999, -1.9999998 ]), array([ 0.33333333, -0.66666666]), array([-0.55555555, -0.9999999 ]), array([-0.33333333, -1.42389505]), array([-0.77777777, -0.9999999 ]), array([ 0.2      , -0.9999999]), array([  5.99999988e-01,  -1.00000000e+07]), array([ 0.83333333, -0.9999999 ]), array([-0.33160618,  0.57673252])]\n",
      "[array([-0.63660743,  0.25      ]), array([-0.74999999, -0.33333332]), array([-0.09090909, -0.9999999 ]), array([-0.9070964, -0.1      ]), array([-0.33333333, -1.05984949]), array([-0.25      , -0.71378679]), array([ -2.49999997e-01,  -1.00000000e+07]), array([  4.99999996e-01,  -1.00000000e+07]), array([ 0.85714285, -0.33333332]), array([-0.64032575,  0.99999995])]\n",
      "[array([-0.99999997, -0.2       ]), array([-0.49999999, -0.24999999]), array([-0.81818181, -0.9999999 ]), array([-2.16728158, -0.24999999]), array([ 0.4       , -0.77509383]), array([-0.2      , -0.9999999]), array([-0.28571428, -0.18333483]), array([-0.2      , -0.9999999]), array([  5.71428567e-01,  -1.00000000e+07]), array([-0.70212763,  0.99999997])]\n",
      "[array([-0.99999999, -0.11111111]), array([-1.8020275, -0.9999999]), array([-1.07736924,  0.        ]), array([ -3.84615382e-01,  -1.00000000e+07]), array([ -3.99999996e-01,  -1.00000000e+07]), array([-0.99999999, -0.33333332]), array([ 0.2      , -0.9999999]), array([ 0.5       , -0.61954962]), array([ 0.33333333,  0.32108513]), array([-1.0082552, -0.3108469])]\n",
      "[array([-0.7142857 ,  0.24999999]), array([-0.63636363, -0.33333333]), array([-0.85213262, -0.24999999]), array([-0.33333333, -0.84917748]), array([ -9.99999993e-01,  -1.00000000e+07]), array([ -4.99999996e-01,  -1.00000000e+07]), array([-0.81818181, -1.9999998 ]), array([-0.33333332, -0.9999999 ]), array([ 0.59999999, -0.9999999 ]), array([-1.05079735,  0.99999997])]\n",
      "[array([-0.99999999, -0.39999999]), array([ -7.99999992e-01,  -1.00000000e+07]), array([-0.74999999,  0.        ]), array([-1.15196527, -0.16666666]), array([-0.49999999, -0.33333332]), array([ 0.33333333, -0.9999999 ]), array([ 0.2      , -0.9999999]), array([  4.54545450e-01,  -1.00000000e+07]), array([ 0.81818181, -0.9999999 ]), array([-0.90309401,  0.99999997])]\n",
      "[array([-0.63157895, -0.2       ]), array([-0.84615384, -0.2       ]), array([-0.67567567, -0.33333332]), array([-0.65853658,  0.        ]), array([-0.53846154, -0.375     ]), array([-0.60869565, -0.9999999 ]), array([-0.57142857,  0.        ]), array([-1.18311501, -0.2       ]), array([-0.04166667, -0.68265977]), array([-1.14560091,  0.99999998])]\n",
      "\n",
      "k = 1\n",
      "[array([-2.48942824,  0.54760193]), array([-0.99999995,  0.        ]), array([-1.10153205,  0.06977892]), array([-1.26534097, -0.9999999 ]), array([-0.99999995, -0.9999999 ]), array([ 0.73634562, -0.78507438]), array([-0.9999999, -1.9999998]), array([ 1.31829499, -2.42352948]), array([-0.49687848, -0.9999999 ]), array([-0.54432911,  0.2       ])]\n",
      "[array([ 0.        , -0.36020373]), array([        0., -10000000.]), array([-0.57609883, -1.9999998 ]), array([ 0.75854377, -0.9999999 ]), array([-0.47652889,  0.        ]), array([ 0.        , -1.14680917]), array([-0.90518135,  0.        ]), array([  3.33333322e-01,  -1.00000000e+07]), array([ 0.25976769, -1.26432025]), array([-1.42596854,  0.9999999 ])]\n",
      "[array([ 0.35031947,  0.28886118]), array([ 0.45787379,  1.92244208]), array([-0.12783768, -1.63034389]), array([-0.99816289,  0.9999999 ]), array([-1.53242061, -0.99999995]), array([-0.33333332, -0.27496983]), array([ 0.99999995, -2.73343467]), array([ -9.99999900e-01,  -1.00000000e+07]), array([-0.84986401,  0.99999995]), array([ 0.49999999, -1.55271542])]\n",
      "[array([-0.1554568,  0.9999999]), array([ 0.99999995, -0.99999995]), array([-0.9999999 , -0.32888603]), array([-0.44796783,  0.56279645]), array([-0.99999997,  0.99999995]), array([-0.33333332, -1.13972717]), array([ 0.9999999 , -0.20577795]), array([ 0.9999999 , -0.33333332]), array([-0.82770101,  0.49999999]), array([ 0.27927101,  0.99999999])]\n",
      "[array([-0.47986869,  1.14852803]), array([-0.15152984,  0.0993684 ]), array([-1.75825936,  0.36830714]), array([-0.49999999, -1.19131781]), array([ -5.10959274e-01,  -1.00000000e+07]), array([-0.8222898, -0.9999999]), array([-1.07883869, -0.83695756]), array([-0.80097741,  0.05467876]), array([ -3.33333322e-01,  -1.00000000e+07]), array([-1.37041728,  0.9999999 ])]\n",
      "[array([-2.13974996, -0.9999999 ]), array([ 0.99999995, -0.61746061]), array([-0.21223841,  1.6787283 ]), array([ 0.81867083, -2.05789593]), array([-0.9999999 , -0.80353856]), array([-0.99999995, -1.9999998 ]), array([-2.10507134,  0.        ]), array([ 0.        , -1.51612228]), array([-0.33333332, -1.90285757]), array([-0.91088458, -0.33333332])]\n",
      "[array([ 0.33333332,  0.        ]), array([ 0.76926121,  0.23344951]), array([-0.9999999 , -0.31512976]), array([-1.01998969,  0.9999999 ]), array([ 0.        , -0.44852104]), array([ -1.57920459e-01,  -1.00000000e+07]), array([ 0.52711981, -0.9999999 ]), array([-0.46344459,  0.49999999]), array([-0.9999999, -0.9999999]), array([-1.00256648,  0.7142857 ])]\n",
      "[array([-0.51726526,  0.49884377]), array([-0.52544227, -0.33333332]), array([-1.97672105, -0.3573667 ]), array([-0.33333332,  0.09530478]), array([-0.33333332, -0.95848791]), array([-0.99999995,  0.        ]), array([ 0.       ,  0.9999999]), array([-0.9999999 , -1.26065181]), array([ 0.        , -0.56186964]), array([ 0.59999999,  0.03380092])]\n",
      "[array([ 1.01280162,  0.0635634 ]), array([-0.91362415,  0.6974309 ]), array([-0.65593928,  0.91392281]), array([  9.86426449e-01,  -1.00000000e+07]), array([-1.17017203,  0.4397759 ]), array([ 0.2887608,  0.9999999]), array([-0.9999999 , -0.34201355]), array([-0.69000473, -1.29564998]), array([ 0.99999995, -0.33421215]), array([ 0.99999995,  0.47822462])]\n",
      "[array([-0.96818658,  0.        ]), array([-0.99999995, -1.82169508]), array([-1.73697155,  0.        ]), array([-0.99999997, -0.2       ]), array([-0.99999998, -2.12564914]), array([-0.99999995, -0.81121521]), array([ 0.       , -0.9999999]), array([ 0.33333332, -1.23319061]), array([-0.14285714, -0.59999999]), array([ 0.77777777,  0.25072502])]\n",
      "\n"
     ]
    }
   ],
   "source": [
    "printPolicy()"
   ]
  },
  {
   "cell_type": "code",
   "execution_count": null,
   "metadata": {
    "collapsed": true
   },
   "outputs": [],
   "source": []
  },
  {
   "cell_type": "code",
   "execution_count": null,
   "metadata": {
    "collapsed": true
   },
   "outputs": [],
   "source": []
  }
 ],
 "metadata": {
  "anaconda-cloud": {},
  "kernelspec": {
   "display_name": "Python [default]",
   "language": "python",
   "name": "python2"
  },
  "language_info": {
   "codemirror_mode": {
    "name": "ipython",
    "version": 2
   },
   "file_extension": ".py",
   "mimetype": "text/x-python",
   "name": "python",
   "nbconvert_exporter": "python",
   "pygments_lexer": "ipython2",
   "version": "2.7.12"
  }
 },
 "nbformat": 4,
 "nbformat_minor": 0
}
