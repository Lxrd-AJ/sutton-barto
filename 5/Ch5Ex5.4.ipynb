{
 "cells": [
  {
   "cell_type": "markdown",
   "metadata": {},
   "source": [
    "# On-policy first-visit MC control (for ε-soft policies)\n",
    "\n",
    "Soft policies are probabilistic, the action picked for state s is the result of sampling the distribution Q(s,:)\n",
    "\n",
    "On-policy methods never deviate from the policy, but the policy itself is probabilistic, so it llows for the exploration to happen while staying on policy."
   ]
  },
  {
   "cell_type": "code",
   "execution_count": null,
   "metadata": {
    "collapsed": true
   },
   "outputs": [],
   "source": [
    "For exaploring starts, create a function that, given a state it creates the list of cards.\n",
    "Enumerate all posible states, call the function, and simmulate.\n",
    "repeat the above a 1000 times"
   ]
  },
  {
   "cell_type": "code",
   "execution_count": 1,
   "metadata": {
    "collapsed": false
   },
   "outputs": [],
   "source": [
    "import numpy as np\n",
    "from numpy.linalg import inv, norm\n",
    "from numpy.random import choice\n",
    "\n",
    "#Blackjack rules\n",
    "#draw at random 1 - 10, 10 ,10, 10\n",
    "#dealer shows one card.\n",
    "#player takes two and holds on 20 or 21\n",
    "#state is dealer-showing, player sum and useable ace.\n",
    "#dealer sticks on 17 or greater"
   ]
  },
  {
   "cell_type": "code",
   "execution_count": 2,
   "metadata": {
    "collapsed": true
   },
   "outputs": [],
   "source": [
    "# Usable Ace\n",
    "def uaFunc(pCards):\n",
    "    return int(min(pCards) == 1 and sum(pCards) <= 11) "
   ]
  },
  {
   "cell_type": "code",
   "execution_count": 3,
   "metadata": {
    "collapsed": true
   },
   "outputs": [],
   "source": [
    "def stateIdx(dCard, pCards):\n",
    "    i = dCard - 1\n",
    "    k = uaFunc(pCards)\n",
    "    j = pSum(pCards) - 12\n",
    "    return [i, j, k] "
   ]
  },
  {
   "cell_type": "code",
   "execution_count": 4,
   "metadata": {
    "collapsed": true
   },
   "outputs": [],
   "source": [
    "def pSum(cards):\n",
    "    return sum(cards) + 10*uaFunc(cards)"
   ]
  },
  {
   "cell_type": "code",
   "execution_count": 5,
   "metadata": {
    "collapsed": true
   },
   "outputs": [],
   "source": [
    "def initState():\n",
    "    dCard = choice(cards)\n",
    "    pCards = list(choice(cards, 2, True))\n",
    "    #print(pCards)\n",
    "    while pSum(pCards) < 12:\n",
    "        pCards.append(choice(cards))\n",
    "    return dCard, pCards"
   ]
  },
  {
   "cell_type": "code",
   "execution_count": 6,
   "metadata": {
    "collapsed": false
   },
   "outputs": [],
   "source": [
    "def pPolicy(dCard, pCards, PI):\n",
    "    dsIdx, psIdx, uaIdx = stateIdx(dCard, pCards)    \n",
    "    p = PI[dsIdx, psIdx, uaIdx]\n",
    "    a = choice(np.arange(len(p)), 1, list(p))[0]\n",
    "    return a"
   ]
  },
  {
   "cell_type": "code",
   "execution_count": 7,
   "metadata": {
    "collapsed": true
   },
   "outputs": [],
   "source": [
    "def pReward(dCard, pCards):\n",
    "\n",
    "    if sum(pCards) > 21:\n",
    "        #print 'busted'\n",
    "        result = -1\n",
    "    else:\n",
    "        dCards = [dCard]\n",
    "        while pSum(dCards) < 17:\n",
    "            dCards.append(choice(cards, 1))\n",
    "            \n",
    "        if len(pCards) == 2 and pSum(pCards) == 21:\n",
    "            if len(dCards) == 2 and pSum(dCards) == 21:\n",
    "                result = 0\n",
    "            else:\n",
    "                result = 1\n",
    "                \n",
    "        if sum(dCards) > 21:\n",
    "            result = 1\n",
    "        elif pSum(dCards) >= pSum(pCards):\n",
    "            result = -1\n",
    "        else:\n",
    "            result = 1\n",
    "#         if pSum(pCards) == 21:\n",
    "#             print 'player=[{0} - {1}]   -   dealer=[{2} - {3}]'.format(sum(pCards), pSum(pCards), sum(dCards), pSum(dCards))\n",
    "#             print 'result', result\n",
    "    \n",
    "    return result"
   ]
  },
  {
   "cell_type": "code",
   "execution_count": 8,
   "metadata": {
    "collapsed": false
   },
   "outputs": [],
   "source": [
    "def updatePolicy(rewardMatrix, countMatrix, epsilon, Q, PI, stateRec):\n",
    "    for dsIdx, psIdx, uaIdx, a in stateRec:\n",
    "        Q[dsIdx, psIdx, uaIdx, a] = rewardMatrix[dsIdx, psIdx, uaIdx, a] / (countMatrix[dsIdx, psIdx, uaIdx, a])\n",
    "        \n",
    "        meanRewards = Q[dsIdx, psIdx, uaIdx]\n",
    "        v_max = np.max(meanRewards)\n",
    "        a_max = [a for a, v in enumerate(meanRewards) if v == v_max]\n",
    "        a_star = np.random.choice(a_max) if len(a_max) > 1 else a_max[0]\n",
    "        num_actions = len(meanRewards)\n",
    "        for a in range(num_actions):\n",
    "            if a == a_star:\n",
    "                PI[dsIdx, psIdx, uaIdx, a] = 1 - epsilon + epsilon/float(num_actions)\n",
    "            else:\n",
    "                PI[dsIdx, psIdx, uaIdx, a] = epsilon/float(num_actions)"
   ]
  },
  {
   "cell_type": "code",
   "execution_count": 9,
   "metadata": {
    "collapsed": false
   },
   "outputs": [],
   "source": [
    "def a_star(av):\n",
    "    #return '{0:.2f}'.format(av[1]).rjust(5)\n",
    "    if av[0] > av[1]:\n",
    "        return 'stick'\n",
    "    elif av[0] == av[1]:\n",
    "        return '====='\n",
    "    else:\n",
    "        return '     '"
   ]
  },
  {
   "cell_type": "code",
   "execution_count": 10,
   "metadata": {
    "collapsed": false
   },
   "outputs": [],
   "source": [
    "def printPolicy(PI):\n",
    "    print\n",
    "    print 'Policy'\n",
    "    for k in [0,1]:\n",
    "        print 'usabe ace (1 or 11): ', 'yes' if k == 1 else 'no'\n",
    "        print 'dlr\\plyr    ', '       '.join(['{0}'.format(12+j) for j in range(10)])\n",
    "        for i in range(10):\n",
    "            print '{0}'.format(1+i).ljust(8), [a_star(PI[i,j,k]) for j in range(10)]\n",
    "        print "
   ]
  },
  {
   "cell_type": "code",
   "execution_count": 11,
   "metadata": {
    "collapsed": false
   },
   "outputs": [
    {
     "name": "stdout",
     "output_type": "stream",
     "text": [
      "0.0248931607816\n"
     ]
    }
   ],
   "source": [
    "stateMatrix = np.zeros((10, 10, 2))\n",
    "cards = [1, 2, 3, 4, 5, 6, 7, 8, 9, 10, 10, 10, 10]\n",
    "Q = np.zeros((10, 10, 2, 2))\n",
    "PI = np.ones((10, 10, 2, 2)) * .5\n",
    "rewardMatrix = np.zeros((10, 10, 2, 2))\n",
    "countMatrix = np.zeros((10, 10, 2, 2))              \n",
    "epsilon = .5\n",
    "\n",
    "#seq of events\n",
    "#draw dealer's card\n",
    "#draw players cards to reach 12\n",
    "#determine ua or nua\n",
    "#take more player cards - keep list of sums (or indices)\n",
    "\n",
    "for episode in range(300000):\n",
    "\n",
    "    epsilon *= 0.99999\n",
    "    \n",
    "    stateRec = []\n",
    "\n",
    "    #set initial state\n",
    "    dCard, pCards = initState()\n",
    "    ua = uaFunc(pCards)\n",
    "\n",
    "    #record initial state\n",
    "    dsIdx, psIdx, uaIdx = stateIdx(dCard, pCards)\n",
    "    action = pPolicy(dCard, pCards, PI)\n",
    "    stateRec.append((dsIdx, psIdx, uaIdx, action))\n",
    "\n",
    "    #print 'player cards', pCards\n",
    "    #exercise player policy\n",
    "    while (pSum(pCards) <= 21) and action:\n",
    "        # draw a card\n",
    "        pCards.append(choice(cards))\n",
    "        #print 'player cards', pCards\n",
    "        dsIdx, psIdx, uaIdx = stateIdx(dCard, pCards)\n",
    "        if (pSum(pCards) <= 21):\n",
    "            action = pPolicy(dCard, pCards, PI)\n",
    "            #record state each step\n",
    "            stateRec.append((dsIdx, psIdx, uaIdx, action))\n",
    "\n",
    "    # assign reward\n",
    "    reward = pReward(dCard, pCards)           \n",
    "    for dsIdx, psIdx, uaIdx, a in stateRec:\n",
    "        rewardMatrix[dsIdx, psIdx, uaIdx, a] += reward            \n",
    "        countMatrix[dsIdx, psIdx, uaIdx, a] += 1 \n",
    "#             if pSum(pCards) == 21:\n",
    "#                 print dsIdx, psIdx, uaIdx, aIdx, reward\n",
    "    #print stateRec\n",
    "    updatePolicy(rewardMatrix, countMatrix, epsilon, Q, PI, stateRec)\n",
    "\n",
    "    \n",
    "print epsilon"
   ]
  },
  {
   "cell_type": "code",
   "execution_count": 174,
   "metadata": {
    "collapsed": false
   },
   "outputs": [],
   "source": [
    "#printPolicy(rewardMatrix)"
   ]
  },
  {
   "cell_type": "code",
   "execution_count": 175,
   "metadata": {
    "collapsed": false,
    "scrolled": true
   },
   "outputs": [
    {
     "name": "stdout",
     "output_type": "stream",
     "text": [
      "\n",
      "Policy\n",
      "usabe ace (1 or 11):  no\n",
      "dlr\\plyr     12       13       14       15       16       17       18       19       20       21\n",
      "1        ['stick', 'stick', 'stick', 'stick', 'stick', 'stick', 'stick', 'stick', 'stick', 'stick']\n",
      "2        ['stick', 'stick', 'stick', 'stick', 'stick', 'stick', 'stick', 'stick', 'stick', 'stick']\n",
      "3        ['stick', 'stick', 'stick', 'stick', 'stick', 'stick', 'stick', 'stick', 'stick', 'stick']\n",
      "4        ['stick', 'stick', 'stick', 'stick', 'stick', 'stick', 'stick', 'stick', 'stick', 'stick']\n",
      "5        ['stick', 'stick', 'stick', 'stick', 'stick', 'stick', 'stick', 'stick', 'stick', 'stick']\n",
      "6        ['stick', 'stick', 'stick', 'stick', 'stick', 'stick', 'stick', 'stick', 'stick', 'stick']\n",
      "7        ['stick', 'stick', 'stick', 'stick', 'stick', 'stick', 'stick', 'stick', 'stick', 'stick']\n",
      "8        ['stick', 'stick', 'stick', 'stick', 'stick', 'stick', 'stick', 'stick', 'stick', 'stick']\n",
      "9        ['stick', 'stick', 'stick', 'stick', 'stick', 'stick', 'stick', 'stick', 'stick', 'stick']\n",
      "10       ['stick', 'stick', 'stick', 'stick', 'stick', 'stick', 'stick', 'stick', 'stick', 'stick']\n",
      "\n",
      "usabe ace (1 or 11):  yes\n",
      "dlr\\plyr     12       13       14       15       16       17       18       19       20       21\n",
      "1        ['     ', '     ', 'stick', '     ', '     ', '     ', 'stick', 'stick', 'stick', 'stick']\n",
      "2        ['stick', '     ', 'stick', '     ', 'stick', 'stick', 'stick', 'stick', 'stick', 'stick']\n",
      "3        ['     ', 'stick', '     ', '     ', 'stick', '     ', 'stick', 'stick', 'stick', 'stick']\n",
      "4        ['stick', 'stick', '     ', '     ', '     ', '     ', 'stick', 'stick', 'stick', 'stick']\n",
      "5        ['stick', '     ', 'stick', '     ', 'stick', 'stick', 'stick', 'stick', 'stick', 'stick']\n",
      "6        ['     ', '     ', 'stick', '     ', 'stick', 'stick', 'stick', 'stick', 'stick', 'stick']\n",
      "7        ['     ', '     ', '     ', '     ', '     ', '     ', 'stick', 'stick', 'stick', 'stick']\n",
      "8        ['     ', '     ', '     ', '     ', '     ', 'stick', '     ', 'stick', 'stick', 'stick']\n",
      "9        ['stick', 'stick', '     ', '     ', '     ', '     ', 'stick', 'stick', 'stick', 'stick']\n",
      "10       ['     ', '     ', '     ', '     ', '     ', '     ', 'stick', 'stick', 'stick', 'stick']\n",
      "\n"
     ]
    }
   ],
   "source": [
    "printPolicy(PI)"
   ]
  },
  {
   "cell_type": "code",
   "execution_count": 176,
   "metadata": {
    "collapsed": false
   },
   "outputs": [],
   "source": [
    "def printMatrix(M):\n",
    "    print\n",
    "    print 'Matrix'\n",
    "    for k in [0,1]:\n",
    "        print 'action (stick or draw): ', 'draw' if k == 1 else 'stick'\n",
    "        print 'dlr\\plyr    ', '       '.join(['{0}'.format(12+j) for j in range(10)])\n",
    "        for i in range(10):\n",
    "            print '{0}'.format(1+i).ljust(8), ['{0:.2f}'.format(M[i,j, 0, k]) for j in range(10)]\n",
    "        print "
   ]
  },
  {
   "cell_type": "code",
   "execution_count": 177,
   "metadata": {
    "collapsed": false
   },
   "outputs": [
    {
     "name": "stdout",
     "output_type": "stream",
     "text": [
      "\n",
      "Matrix\n",
      "action (stick or draw):  stick\n",
      "dlr\\plyr     12       13       14       15       16       17       18       19       20       21\n",
      "1        ['-0.76', '-0.76', '-0.77', '-0.76', '-0.76', '-0.75', '-0.54', '-0.21', '0.02', '0.22']\n",
      "2        ['-0.29', '-0.24', '-0.29', '-0.31', '-0.28', '-0.23', '-0.04', '0.25', '0.49', '0.74']\n",
      "3        ['-0.27', '-0.25', '-0.23', '-0.20', '-0.23', '-0.27', '0.02', '0.30', '0.56', '0.77']\n",
      "4        ['-0.20', '-0.23', '-0.22', '-0.19', '-0.14', '-0.20', '0.05', '0.30', '0.52', '0.75']\n",
      "5        ['-0.21', '-0.10', '-0.15', '-0.15', '-0.19', '-0.19', '0.08', '0.34', '0.58', '0.79']\n",
      "6        ['-0.14', '-0.12', '-0.17', '-0.11', '-0.18', '-0.16', '0.20', '0.40', '0.65', '0.79']\n",
      "7        ['-0.47', '-0.47', '-0.48', '-0.45', '-0.49', '-0.46', '0.27', '0.52', '0.70', '0.86']\n",
      "8        ['-0.50', '-0.54', '-0.50', '-0.51', '-0.49', '-0.52', '-0.20', '0.50', '0.72', '0.85']\n",
      "9        ['-0.53', '-0.54', '-0.56', '-0.54', '-0.49', '-0.54', '-0.27', '-0.05', '0.65', '0.87']\n",
      "10       ['-0.60', '-0.59', '-0.58', '-0.57', '-0.59', '-0.58', '-0.35', '-0.14', '0.09', '0.78']\n",
      "\n",
      "action (stick or draw):  draw\n",
      "dlr\\plyr     12       13       14       15       16       17       18       19       20       21\n",
      "1        ['-0.80', '-0.81', '-0.79', '-0.82', '-0.85', '-0.86', '-0.88', '-0.90', '-0.95', '-1.00']\n",
      "2        ['-0.58', '-0.60', '-0.65', '-0.71', '-0.72', '-0.76', '-0.81', '-0.86', '-0.93', '-1.00']\n",
      "3        ['-0.52', '-0.58', '-0.63', '-0.69', '-0.74', '-0.79', '-0.80', '-0.87', '-0.94', '-1.00']\n",
      "4        ['-0.58', '-0.60', '-0.67', '-0.70', '-0.75', '-0.77', '-0.82', '-0.87', '-0.94', '-1.00']\n",
      "5        ['-0.55', '-0.57', '-0.62', '-0.70', '-0.75', '-0.79', '-0.82', '-0.84', '-0.93', '-1.00']\n",
      "6        ['-0.53', '-0.56', '-0.63', '-0.67', '-0.71', '-0.71', '-0.80', '-0.86', '-0.93', '-1.00']\n",
      "7        ['-0.58', '-0.57', '-0.64', '-0.69', '-0.70', '-0.80', '-0.81', '-0.84', '-0.94', '-1.00']\n",
      "8        ['-0.61', '-0.63', '-0.67', '-0.70', '-0.71', '-0.73', '-0.77', '-0.86', '-0.95', '-1.00']\n",
      "9        ['-0.65', '-0.67', '-0.73', '-0.70', '-0.76', '-0.81', '-0.81', '-0.87', '-0.92', '-1.00']\n",
      "10       ['-0.69', '-0.72', '-0.73', '-0.76', '-0.78', '-0.82', '-0.85', '-0.87', '-0.94', '-1.00']\n",
      "\n"
     ]
    }
   ],
   "source": [
    "printMatrix(Q)"
   ]
  },
  {
   "cell_type": "code",
   "execution_count": 178,
   "metadata": {
    "collapsed": true
   },
   "outputs": [],
   "source": [
    "def printMatrixInt(M):\n",
    "    print\n",
    "    print 'Matrix'\n",
    "    for k in [0,1]:\n",
    "        print 'action (stick or draw): ', 'draw' if k == 1 else 'stick'\n",
    "        print 'dlr\\plyr    ', '       '.join(['{0}'.format(12+j) for j in range(10)])\n",
    "        for i in range(10):\n",
    "            print '{0}'.format(1+i).ljust(8), ['%d' % (M[i,j, 0, k]) for j in range(10)]\n",
    "        print "
   ]
  },
  {
   "cell_type": "code",
   "execution_count": 179,
   "metadata": {
    "collapsed": false
   },
   "outputs": [
    {
     "name": "stdout",
     "output_type": "stream",
     "text": [
      "\n",
      "Matrix\n",
      "action (stick or draw):  stick\n",
      "dlr\\plyr     12       13       14       15       16       17       18       19       20       21\n",
      "1        ['-1019', '-999', '-998', '-940', '-956', '-891', '-632', '-249', '44', '186']\n",
      "2        ['-373', '-310', '-368', '-395', '-371', '-282', '-54', '313', '911', '584']\n",
      "3        ['-362', '-324', '-320', '-257', '-311', '-321', '24', '352', '1035', '552']\n",
      "4        ['-283', '-297', '-281', '-250', '-184', '-246', '63', '355', '958', '537']\n",
      "5        ['-276', '-125', '-192', '-195', '-248', '-228', '98', '430', '1001', '612']\n",
      "6        ['-184', '-156', '-220', '-140', '-225', '-191', '250', '491', '1136', '595']\n",
      "7        ['-624', '-631', '-605', '-589', '-628', '-583', '327', '628', '1251', '639']\n",
      "8        ['-667', '-694', '-650', '-638', '-635', '-626', '-245', '561', '1291', '667']\n",
      "9        ['-685', '-706', '-766', '-698', '-647', '-688', '-341', '-60', '1129', '646']\n",
      "10       ['-3257', '-3148', '-2986', '-3001', '-2981', '-2993', '-1696', '-688', '620', '2379']\n",
      "\n",
      "action (stick or draw):  draw\n",
      "dlr\\plyr     12       13       14       15       16       17       18       19       20       21\n",
      "1        ['-1079', '-1110', '-1013', '-1140', '-1106', '-1055', '-1100', '-1155', '-1630', '-788']\n",
      "2        ['-789', '-801', '-868', '-905', '-928', '-937', '-981', '-1037', '-1630', '-741']\n",
      "3        ['-684', '-774', '-845', '-904', '-964', '-968', '-1056', '-1055', '-1676', '-750']\n",
      "4        ['-764', '-831', '-844', '-905', '-977', '-987', '-975', '-1034', '-1675', '-732']\n",
      "5        ['-750', '-727', '-821', '-895', '-944', '-930', '-981', '-978', '-1670', '-800']\n",
      "6        ['-691', '-706', '-855', '-891', '-928', '-918', '-998', '-1021', '-1693', '-753']\n",
      "7        ['-778', '-711', '-833', '-910', '-933', '-943', '-998', '-987', '-1678', '-770']\n",
      "8        ['-845', '-824', '-875', '-881', '-927', '-881', '-917', '-968', '-1667', '-775']\n",
      "9        ['-839', '-898', '-984', '-952', '-983', '-1007', '-1020', '-1055', '-1680', '-788']\n",
      "10       ['-3684', '-3774', '-3869', '-3919', '-3951', '-4073', '-4219', '-4065', '-6632', '-3104']\n",
      "\n"
     ]
    }
   ],
   "source": [
    "printMatrixInt(rewardMatrix)"
   ]
  },
  {
   "cell_type": "code",
   "execution_count": null,
   "metadata": {
    "collapsed": true
   },
   "outputs": [],
   "source": []
  },
  {
   "cell_type": "code",
   "execution_count": null,
   "metadata": {
    "collapsed": true
   },
   "outputs": [],
   "source": []
  }
 ],
 "metadata": {
  "anaconda-cloud": {},
  "kernelspec": {
   "display_name": "Python [default]",
   "language": "python",
   "name": "python2"
  },
  "language_info": {
   "codemirror_mode": {
    "name": "ipython",
    "version": 2
   },
   "file_extension": ".py",
   "mimetype": "text/x-python",
   "name": "python",
   "nbconvert_exporter": "python",
   "pygments_lexer": "ipython2",
   "version": "2.7.12"
  }
 },
 "nbformat": 4,
 "nbformat_minor": 0
}
